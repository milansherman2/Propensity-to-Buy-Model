{
 "cells": [
  {
   "cell_type": "markdown",
   "id": "2917cae4",
   "metadata": {},
   "source": [
    "### Feature Selection\n",
    "- Read and clean data\n",
    "    - Drop NaNs\n",
    "    - Drop unnamed column added when generating the csv and application id"
   ]
  },
  {
   "cell_type": "code",
   "execution_count": null,
   "id": "6e50b88f",
   "metadata": {},
   "outputs": [],
   "source": [
    "import pandas as pd\n",
    "df = pd.read_csv(r'C:\\Users\\milan\\Documents\\GitHub\\DSC-630-Project\\clean_df.csv')\n",
    "# df = df.dropna()\n",
    "# df = df.drop(columns = 'application_id')\n",
    "# df.drop(df.columns[[0]],axis=1,inplace=True)\n",
    "df.shape"
   ]
  },
  {
   "cell_type": "code",
   "execution_count": 2,
   "id": "939afbef",
   "metadata": {},
   "outputs": [
    {
     "data": {
      "text/html": [
       "<div>\n",
       "<style scoped>\n",
       "    .dataframe tbody tr th:only-of-type {\n",
       "        vertical-align: middle;\n",
       "    }\n",
       "\n",
       "    .dataframe tbody tr th {\n",
       "        vertical-align: top;\n",
       "    }\n",
       "\n",
       "    .dataframe thead th {\n",
       "        text-align: right;\n",
       "    }\n",
       "</style>\n",
       "<table border=\"1\" class=\"dataframe\">\n",
       "  <thead>\n",
       "    <tr style=\"text-align: right;\">\n",
       "      <th></th>\n",
       "      <th>open_to_submit_min</th>\n",
       "      <th>submit_to_approve_min</th>\n",
       "      <th>channel_combined</th>\n",
       "      <th>pre_approval_interactions</th>\n",
       "      <th>post_approval_pre_bind_interactions</th>\n",
       "      <th>sessions_uniq</th>\n",
       "      <th>event_total</th>\n",
       "      <th>session_pageload_total</th>\n",
       "      <th>url_uniq</th>\n",
       "      <th>device</th>\n",
       "      <th>...</th>\n",
       "      <th>product</th>\n",
       "      <th>quoted_risk_class</th>\n",
       "      <th>approved_risk_class</th>\n",
       "      <th>quoted_premium</th>\n",
       "      <th>premium_difference</th>\n",
       "      <th>premium_pct_diff</th>\n",
       "      <th>annual_approved_premium</th>\n",
       "      <th>face_prem_ratio</th>\n",
       "      <th>income_prem_ratio</th>\n",
       "      <th>bind</th>\n",
       "    </tr>\n",
       "  </thead>\n",
       "  <tbody>\n",
       "    <tr>\n",
       "      <th>0</th>\n",
       "      <td>6</td>\n",
       "      <td>1</td>\n",
       "      <td>0.47824</td>\n",
       "      <td>0</td>\n",
       "      <td>0</td>\n",
       "      <td>1.82859</td>\n",
       "      <td>16.986182</td>\n",
       "      <td>15.882392</td>\n",
       "      <td>10.236375</td>\n",
       "      <td>0.471306</td>\n",
       "      <td>...</td>\n",
       "      <td>0.454665</td>\n",
       "      <td>0.424481</td>\n",
       "      <td>0.256619</td>\n",
       "      <td>251.00</td>\n",
       "      <td>-151.67</td>\n",
       "      <td>-0.604263</td>\n",
       "      <td>4832.04</td>\n",
       "      <td>206.951929</td>\n",
       "      <td>37.665251</td>\n",
       "      <td>0</td>\n",
       "    </tr>\n",
       "    <tr>\n",
       "      <th>1</th>\n",
       "      <td>5</td>\n",
       "      <td>1</td>\n",
       "      <td>0.47824</td>\n",
       "      <td>0</td>\n",
       "      <td>0</td>\n",
       "      <td>1.82859</td>\n",
       "      <td>16.986182</td>\n",
       "      <td>15.882392</td>\n",
       "      <td>10.236375</td>\n",
       "      <td>0.471306</td>\n",
       "      <td>...</td>\n",
       "      <td>0.381739</td>\n",
       "      <td>0.432331</td>\n",
       "      <td>0.534346</td>\n",
       "      <td>30.50</td>\n",
       "      <td>-9.33</td>\n",
       "      <td>-0.305902</td>\n",
       "      <td>477.96</td>\n",
       "      <td>1464.557704</td>\n",
       "      <td>110.155662</td>\n",
       "      <td>1</td>\n",
       "    </tr>\n",
       "    <tr>\n",
       "      <th>2</th>\n",
       "      <td>8</td>\n",
       "      <td>1</td>\n",
       "      <td>0.47824</td>\n",
       "      <td>0</td>\n",
       "      <td>0</td>\n",
       "      <td>1.82859</td>\n",
       "      <td>16.986182</td>\n",
       "      <td>15.882392</td>\n",
       "      <td>10.236375</td>\n",
       "      <td>0.471306</td>\n",
       "      <td>...</td>\n",
       "      <td>0.454665</td>\n",
       "      <td>0.432331</td>\n",
       "      <td>0.534346</td>\n",
       "      <td>19.75</td>\n",
       "      <td>-5.42</td>\n",
       "      <td>-0.274430</td>\n",
       "      <td>302.04</td>\n",
       "      <td>1655.409879</td>\n",
       "      <td>127.744670</td>\n",
       "      <td>1</td>\n",
       "    </tr>\n",
       "    <tr>\n",
       "      <th>3</th>\n",
       "      <td>4</td>\n",
       "      <td>1</td>\n",
       "      <td>0.47824</td>\n",
       "      <td>1</td>\n",
       "      <td>0</td>\n",
       "      <td>1.82859</td>\n",
       "      <td>16.986182</td>\n",
       "      <td>15.882392</td>\n",
       "      <td>10.236375</td>\n",
       "      <td>0.471306</td>\n",
       "      <td>...</td>\n",
       "      <td>0.370102</td>\n",
       "      <td>0.424481</td>\n",
       "      <td>0.436973</td>\n",
       "      <td>84.75</td>\n",
       "      <td>0.00</td>\n",
       "      <td>0.000000</td>\n",
       "      <td>1017.00</td>\n",
       "      <td>737.463127</td>\n",
       "      <td>54.277286</td>\n",
       "      <td>0</td>\n",
       "    </tr>\n",
       "    <tr>\n",
       "      <th>4</th>\n",
       "      <td>2</td>\n",
       "      <td>1</td>\n",
       "      <td>0.47824</td>\n",
       "      <td>3</td>\n",
       "      <td>0</td>\n",
       "      <td>1.82859</td>\n",
       "      <td>16.986182</td>\n",
       "      <td>15.882392</td>\n",
       "      <td>10.236375</td>\n",
       "      <td>0.471306</td>\n",
       "      <td>...</td>\n",
       "      <td>0.370102</td>\n",
       "      <td>0.432331</td>\n",
       "      <td>0.436973</td>\n",
       "      <td>50.33</td>\n",
       "      <td>-32.09</td>\n",
       "      <td>-0.637592</td>\n",
       "      <td>989.04</td>\n",
       "      <td>707.757017</td>\n",
       "      <td>79.737928</td>\n",
       "      <td>0</td>\n",
       "    </tr>\n",
       "  </tbody>\n",
       "</table>\n",
       "<p>5 rows × 40 columns</p>\n",
       "</div>"
      ],
      "text/plain": [
       "   open_to_submit_min  submit_to_approve_min  channel_combined  \\\n",
       "0                   6                      1           0.47824   \n",
       "1                   5                      1           0.47824   \n",
       "2                   8                      1           0.47824   \n",
       "3                   4                      1           0.47824   \n",
       "4                   2                      1           0.47824   \n",
       "\n",
       "   pre_approval_interactions  post_approval_pre_bind_interactions  \\\n",
       "0                          0                                    0   \n",
       "1                          0                                    0   \n",
       "2                          0                                    0   \n",
       "3                          1                                    0   \n",
       "4                          3                                    0   \n",
       "\n",
       "   sessions_uniq  event_total  session_pageload_total   url_uniq    device  \\\n",
       "0        1.82859    16.986182               15.882392  10.236375  0.471306   \n",
       "1        1.82859    16.986182               15.882392  10.236375  0.471306   \n",
       "2        1.82859    16.986182               15.882392  10.236375  0.471306   \n",
       "3        1.82859    16.986182               15.882392  10.236375  0.471306   \n",
       "4        1.82859    16.986182               15.882392  10.236375  0.471306   \n",
       "\n",
       "   ...   product  quoted_risk_class  approved_risk_class  quoted_premium  \\\n",
       "0  ...  0.454665           0.424481             0.256619          251.00   \n",
       "1  ...  0.381739           0.432331             0.534346           30.50   \n",
       "2  ...  0.454665           0.432331             0.534346           19.75   \n",
       "3  ...  0.370102           0.424481             0.436973           84.75   \n",
       "4  ...  0.370102           0.432331             0.436973           50.33   \n",
       "\n",
       "   premium_difference  premium_pct_diff  annual_approved_premium  \\\n",
       "0             -151.67         -0.604263                  4832.04   \n",
       "1               -9.33         -0.305902                   477.96   \n",
       "2               -5.42         -0.274430                   302.04   \n",
       "3                0.00          0.000000                  1017.00   \n",
       "4              -32.09         -0.637592                   989.04   \n",
       "\n",
       "   face_prem_ratio  income_prem_ratio  bind  \n",
       "0       206.951929          37.665251     0  \n",
       "1      1464.557704         110.155662     1  \n",
       "2      1655.409879         127.744670     1  \n",
       "3       737.463127          54.277286     0  \n",
       "4       707.757017          79.737928     0  \n",
       "\n",
       "[5 rows x 40 columns]"
      ]
     },
     "execution_count": 2,
     "metadata": {},
     "output_type": "execute_result"
    }
   ],
   "source": [
    "df.head()"
   ]
  },
  {
   "cell_type": "code",
   "execution_count": 2,
   "id": "c995a585",
   "metadata": {},
   "outputs": [],
   "source": [
    "# import pandas as pd\n",
    "# from sklearn.preprocessing import LabelEncoder\n",
    "\n",
    "# #Create the function to fit and transform the label encoder\n",
    "# def label_encode_columns(df, columns):\n",
    "# #     encoders = {}\n",
    "#     for col in columns:\n",
    "#         le = LabelEncoder().fit(df[col])\n",
    "#         df[col] = le.transform(df[col])\n",
    "# #         encoders[col] = le\n",
    "#     return df\n",
    "# # , encoders\n",
    "# # note that we create fitted encoders to use with the test dataset, since we need to apply the same encoder \n",
    "# # to the test data as the train data"
   ]
  },
  {
   "cell_type": "code",
   "execution_count": 43,
   "id": "a6487057",
   "metadata": {},
   "outputs": [],
   "source": [
    "# #Create the function to take in the fitted encoders and transform the test dataset\n",
    "# def label_encode_columns_w_fit_encoders(df, columns, encoders):\n",
    "#     for col in columns:\n",
    "#         le = encoders.get(col)\n",
    "#         df[col] = le.transform(df[col])\n",
    "#     return df"
   ]
  },
  {
   "cell_type": "markdown",
   "id": "ea9e48f9",
   "metadata": {},
   "source": [
    "Identify columns that need to be encoded, i.e. object"
   ]
  },
  {
   "cell_type": "code",
   "execution_count": 3,
   "id": "da879428",
   "metadata": {},
   "outputs": [
    {
     "data": {
      "text/plain": [
       "open_to_submit_min                       int64\n",
       "submit_to_approve_min                    int64\n",
       "channel_combined                       float64\n",
       "pre_approval_interactions                int64\n",
       "post_approval_pre_bind_interactions      int64\n",
       "sessions_uniq                          float64\n",
       "event_total                            float64\n",
       "session_pageload_total                 float64\n",
       "url_uniq                               float64\n",
       "device                                 float64\n",
       "device_name                            float64\n",
       "avg_seconds_per_session                float64\n",
       "avg_events_per_session                 float64\n",
       "gender                                 float64\n",
       "tb                                       int64\n",
       "current_ins                            float64\n",
       "rx_result                              float64\n",
       "employment_status                      float64\n",
       "postal_code_address                    float64\n",
       "income_payment_period                  float64\n",
       "alcohol_weekly                         float64\n",
       "disability_pmts                          int64\n",
       "lrc_score                                int64\n",
       "previous_declined                      float64\n",
       "med_conditions_count                   float64\n",
       "bmi                                    float64\n",
       "age                                    float64\n",
       "income_comb                            float64\n",
       "business_line                          float64\n",
       "face_amount                            float64\n",
       "product                                float64\n",
       "quoted_risk_class                      float64\n",
       "approved_risk_class                    float64\n",
       "quoted_premium                         float64\n",
       "premium_difference                     float64\n",
       "premium_pct_diff                       float64\n",
       "annual_approved_premium                float64\n",
       "face_prem_ratio                        float64\n",
       "income_prem_ratio                      float64\n",
       "bind                                     int64\n",
       "dtype: object"
      ]
     },
     "execution_count": 3,
     "metadata": {},
     "output_type": "execute_result"
    }
   ],
   "source": [
    "df.dtypes"
   ]
  },
  {
   "cell_type": "code",
   "execution_count": 3,
   "id": "a43d58c1",
   "metadata": {},
   "outputs": [],
   "source": [
    "# encode_columns = [ 'channel_combined', 'device', 'device_name', 'open_date',\n",
    "#        'gender', 'current_ins', 'rx_result', 'employment_status', 'postal_code_address',\n",
    "#        'income_payment_period', 'business_line', 'product',\n",
    "#        'quoted_risk_class', 'approved_risk_class']"
   ]
  },
  {
   "cell_type": "markdown",
   "id": "03307839",
   "metadata": {},
   "source": [
    "Split data into train and test sets"
   ]
  },
  {
   "cell_type": "code",
   "execution_count": 4,
   "id": "8396b0a0",
   "metadata": {},
   "outputs": [],
   "source": [
    "from sklearn.model_selection import train_test_split\n",
    "import numpy as np\n",
    "\n",
    "np.random.seed(0)\n",
    "\n",
    "train, test = train_test_split(df, test_size = 0.2)\n"
   ]
  },
  {
   "cell_type": "markdown",
   "id": "6036d543",
   "metadata": {},
   "source": [
    "Label encode columns in the training set"
   ]
  },
  {
   "cell_type": "code",
   "execution_count": 5,
   "id": "d057f966",
   "metadata": {},
   "outputs": [
    {
     "name": "stderr",
     "output_type": "stream",
     "text": [
      "C:\\Users\\milan\\AppData\\Local\\Temp/ipykernel_14012/3474278600.py:9: SettingWithCopyWarning: \n",
      "A value is trying to be set on a copy of a slice from a DataFrame.\n",
      "Try using .loc[row_indexer,col_indexer] = value instead\n",
      "\n",
      "See the caveats in the documentation: https://pandas.pydata.org/pandas-docs/stable/user_guide/indexing.html#returning-a-view-versus-a-copy\n",
      "  df[col] = le.transform(df[col])\n"
     ]
    }
   ],
   "source": [
    "# train = label_encode_columns(df = train, columns = encode_columns)"
   ]
  },
  {
   "cell_type": "markdown",
   "id": "beaf2f29",
   "metadata": {},
   "source": [
    "Separate features and target for train and test sets"
   ]
  },
  {
   "cell_type": "code",
   "execution_count": 5,
   "id": "9b04c735",
   "metadata": {},
   "outputs": [],
   "source": [
    "features = train.drop('bind', axis=1)\n",
    "target = train['bind']\n",
    "test_features = test.drop('bind', axis=1)\n",
    "test_target = test['bind']"
   ]
  },
  {
   "cell_type": "markdown",
   "id": "c456f987",
   "metadata": {},
   "source": [
    "Use RFE to automatically select the set of features"
   ]
  },
  {
   "cell_type": "code",
   "execution_count": 7,
   "id": "ecc6e4c8",
   "metadata": {},
   "outputs": [
    {
     "data": {
      "text/plain": [
       "array([[4.00000000e+00, 1.00000000e+00, 3.55077835e-01, ...,\n",
       "        5.30040000e+02, 1.88665006e+02, 4.04686439e+01],\n",
       "       [2.00000000e+00, 2.00000000e+00, 5.40130152e-01, ...,\n",
       "        2.57040000e+02, 1.94522253e+02, 1.86741363e+02],\n",
       "       [4.00000000e+00, 1.00000000e+00, 2.71951831e-01, ...,\n",
       "        4.01196000e+03, 2.49254728e+02, 1.75113909e+01],\n",
       "       ...,\n",
       "       [4.00000000e+00, 1.00000000e+00, 5.70469415e-01, ...,\n",
       "        4.21560000e+02, 3.55821235e+02, 4.93405446e+01],\n",
       "       [1.60000000e+01, 1.00000000e+00, 5.70469415e-01, ...,\n",
       "        9.73560000e+02, 1.54073709e+02, 1.77029191e+02],\n",
       "       [9.00000000e+00, 1.00000000e+00, 5.40130152e-01, ...,\n",
       "        6.36960000e+02, 3.92489324e+02, 2.67445365e+03]])"
      ]
     },
     "execution_count": 7,
     "metadata": {},
     "output_type": "execute_result"
    }
   ],
   "source": [
    "from sklearn.feature_selection import RFECV\n",
    "from sklearn.tree import DecisionTreeClassifier\n",
    "\n",
    "tree = DecisionTreeClassifier()\n",
    "rfecv = RFECV(estimator=tree, step=1, scoring='neg_mean_squared_error')\n",
    "rfecv.fit(features, target)\n",
    "rfecv.transform(features)"
   ]
  },
  {
   "cell_type": "code",
   "execution_count": 8,
   "id": "718089cf",
   "metadata": {},
   "outputs": [
    {
     "ename": "NameError",
     "evalue": "name 'RepeatedStratifiedKFold' is not defined",
     "output_type": "error",
     "traceback": [
      "\u001b[1;31m---------------------------------------------------------------------------\u001b[0m",
      "\u001b[1;31mNameError\u001b[0m                                 Traceback (most recent call last)",
      "\u001b[1;32m~\\AppData\\Local\\Temp/ipykernel_42984/852844678.py\u001b[0m in \u001b[0;36m<module>\u001b[1;34m\u001b[0m\n\u001b[1;32m----> 1\u001b[1;33m \u001b[0mcv\u001b[0m \u001b[1;33m=\u001b[0m \u001b[0mRepeatedStratifiedKFold\u001b[0m\u001b[1;33m(\u001b[0m\u001b[0mn_splits\u001b[0m\u001b[1;33m=\u001b[0m\u001b[1;36m10\u001b[0m\u001b[1;33m,\u001b[0m \u001b[0mn_repeats\u001b[0m\u001b[1;33m=\u001b[0m\u001b[1;36m3\u001b[0m\u001b[1;33m,\u001b[0m \u001b[0mrandom_state\u001b[0m\u001b[1;33m=\u001b[0m\u001b[1;36m1\u001b[0m\u001b[1;33m)\u001b[0m\u001b[1;33m\u001b[0m\u001b[1;33m\u001b[0m\u001b[0m\n\u001b[0m\u001b[0;32m      2\u001b[0m \u001b[0mscores\u001b[0m \u001b[1;33m=\u001b[0m \u001b[0mcross_val_score\u001b[0m\u001b[1;33m(\u001b[0m\u001b[0mtree\u001b[0m\u001b[1;33m,\u001b[0m \u001b[0mfeatures\u001b[0m\u001b[1;33m,\u001b[0m \u001b[0mtarget\u001b[0m\u001b[1;33m,\u001b[0m \u001b[0mscoring\u001b[0m\u001b[1;33m=\u001b[0m\u001b[1;34m'accuracy'\u001b[0m\u001b[1;33m,\u001b[0m \u001b[0mcv\u001b[0m\u001b[1;33m=\u001b[0m\u001b[0mcv\u001b[0m\u001b[1;33m,\u001b[0m \u001b[0mn_jobs\u001b[0m\u001b[1;33m=\u001b[0m\u001b[1;33m-\u001b[0m\u001b[1;36m1\u001b[0m\u001b[1;33m,\u001b[0m \u001b[0merror_score\u001b[0m\u001b[1;33m=\u001b[0m\u001b[1;34m'raise'\u001b[0m\u001b[1;33m)\u001b[0m\u001b[1;33m\u001b[0m\u001b[1;33m\u001b[0m\u001b[0m\n\u001b[0;32m      3\u001b[0m \u001b[0mprint\u001b[0m\u001b[1;33m(\u001b[0m\u001b[0mmean\u001b[0m\u001b[1;33m(\u001b[0m\u001b[0mscores\u001b[0m\u001b[1;33m)\u001b[0m\u001b[1;33m)\u001b[0m\u001b[1;33m\u001b[0m\u001b[1;33m\u001b[0m\u001b[0m\n",
      "\u001b[1;31mNameError\u001b[0m: name 'RepeatedStratifiedKFold' is not defined"
     ]
    }
   ],
   "source": [
    "cv = RepeatedStratifiedKFold(n_splits=10, n_repeats=3, random_state=1)\n",
    "scores = cross_val_score(tree, features, target, scoring='accuracy', cv=cv, n_jobs=-1, error_score='raise')\n",
    "print(mean(scores))"
   ]
  },
  {
   "cell_type": "code",
   "execution_count": 9,
   "id": "6c736bb4",
   "metadata": {},
   "outputs": [
    {
     "name": "stdout",
     "output_type": "stream",
     "text": [
      "tb\n",
      "disability_pmts\n",
      "previous_declined\n",
      "med_conditions_count\n",
      "business_line\n"
     ]
    }
   ],
   "source": [
    "for i in range(features.shape[1]):\n",
    "    if rfecv.support_[i] == False:\n",
    "        print(features.columns[i])"
   ]
  },
  {
   "cell_type": "markdown",
   "id": "59671a53",
   "metadata": {},
   "source": [
    "RFE kept all but three features, so I will see if I can manually reduce the set further."
   ]
  },
  {
   "cell_type": "code",
   "execution_count": 10,
   "id": "16acc135",
   "metadata": {},
   "outputs": [
    {
     "data": {
      "text/plain": [
       "Index(['open_to_submit_min', 'submit_to_approve_min', 'channel_combined',\n",
       "       'pre_approval_interactions', 'post_approval_pre_bind_interactions',\n",
       "       'sessions_uniq', 'event_total', 'session_pageload_total', 'url_uniq',\n",
       "       'device', 'device_name', 'avg_seconds_per_session',\n",
       "       'avg_events_per_session', 'gender', 'tb', 'current_ins', 'rx_result',\n",
       "       'employment_status', 'postal_code_address', 'income_payment_period',\n",
       "       'alcohol_weekly', 'disability_pmts', 'lrc_score', 'previous_declined',\n",
       "       'med_conditions_count', 'bmi', 'age', 'income_comb', 'business_line',\n",
       "       'face_amount', 'product', 'quoted_risk_class', 'approved_risk_class',\n",
       "       'quoted_premium', 'premium_difference', 'premium_pct_diff',\n",
       "       'annual_approved_premium', 'face_prem_ratio', 'income_prem_ratio'],\n",
       "      dtype='object')"
      ]
     },
     "execution_count": 10,
     "metadata": {},
     "output_type": "execute_result"
    }
   ],
   "source": [
    "features.columns"
   ]
  },
  {
   "cell_type": "code",
   "execution_count": 11,
   "id": "37e4c7e0",
   "metadata": {},
   "outputs": [
    {
     "name": "stdout",
     "output_type": "stream",
     "text": [
      "['open_to_submit_min', 'submit_to_approve_min', 'channel_combined', 'post_approval_pre_bind_interactions', 'event_total', 'session_pageload_total', 'url_uniq', 'avg_seconds_per_session', 'avg_events_per_session', 'postal_code_address', 'lrc_score', 'bmi', 'age', 'income_comb', 'quoted_premium', 'premium_difference', 'premium_pct_diff', 'annual_approved_premium', 'face_prem_ratio', 'income_prem_ratio']\n"
     ]
    }
   ],
   "source": [
    "# select the top 20 features\n",
    "from sklearn.feature_selection import RFE\n",
    "rfe = RFE(estimator = DecisionTreeClassifier(), n_features_to_select = 20)\n",
    "rfe.fit(features, target)\n",
    "\n",
    "features_list = []\n",
    "for i in range(features.shape[1]):\n",
    "    if rfe.support_[i] == True:\n",
    "        features_list.append(features.columns[i])\n",
    "print(features_list)"
   ]
  },
  {
   "cell_type": "code",
   "execution_count": 13,
   "id": "d84f2c8b",
   "metadata": {},
   "outputs": [
    {
     "name": "stdout",
     "output_type": "stream",
     "text": [
      "url_uniq\n",
      "avg_seconds_per_session\n",
      "postal_code_address\n",
      "lrc_score\n",
      "quoted_premium\n",
      "face_prem_ratio\n"
     ]
    }
   ],
   "source": [
    "# select the top 7 features\n",
    "from sklearn.feature_selection import RFE\n",
    "rfe = RFE(estimator = DecisionTreeClassifier(), n_features_to_select = 6)\n",
    "rfe.fit(features, target)\n",
    "\n",
    "for i in range(features.shape[1]):\n",
    "    if rfe.support_[i] == True:\n",
    "        print(features.columns[i])"
   ]
  },
  {
   "cell_type": "markdown",
   "id": "20733238",
   "metadata": {},
   "source": [
    "Below I tune the 'number of features' parameter by checking the accuracy of models generated using different numbers of features"
   ]
  },
  {
   "cell_type": "code",
   "execution_count": 14,
   "id": "73c0727a",
   "metadata": {},
   "outputs": [
    {
     "name": "stdout",
     "output_type": "stream",
     "text": [
      ">7 0.762 (0.010)\n",
      ">8 0.782 (0.008)\n",
      ">9 0.783 (0.006)\n",
      ">10 0.784 (0.007)\n",
      ">11 0.784 (0.005)\n",
      ">12 0.784 (0.007)\n",
      ">13 0.787 (0.008)\n",
      ">14 0.788 (0.008)\n",
      ">15 0.788 (0.008)\n",
      ">16 0.787 (0.006)\n",
      ">17 0.788 (0.008)\n",
      ">18 0.786 (0.006)\n",
      ">19 0.787 (0.006)\n"
     ]
    },
    {
     "data": {
      "image/png": "[encoded data removed]",
      "text/plain": [
       "<Figure size 432x288 with 1 Axes>"
      ]
     },
     "metadata": {
      "needs_background": "light"
     },
     "output_type": "display_data"
    }
   ],
   "source": [
    "# explore the number of selected features for RFE\n",
    "from numpy import mean\n",
    "from numpy import std\n",
    "from sklearn.datasets import make_classification\n",
    "from sklearn.model_selection import cross_val_score\n",
    "from sklearn.model_selection import RepeatedStratifiedKFold\n",
    "from sklearn.feature_selection import RFE\n",
    "from sklearn.tree import DecisionTreeClassifier\n",
    "from sklearn.pipeline import Pipeline\n",
    "from matplotlib import pyplot\n",
    "\n",
    "\n",
    "# get a list of models to evaluate\n",
    "# NOTE: I tried using 1 to 10 features, and the accuracy increased with each additional feature\n",
    "# now I look at using from 10 to 20 features\n",
    "def get_models():\n",
    "    models = dict()\n",
    "    for i in range(7, 20):\n",
    "        rfe = RFE(estimator=DecisionTreeClassifier(), n_features_to_select=i)\n",
    "        model = DecisionTreeClassifier()\n",
    "        models[str(i)] = Pipeline(steps=[('s',rfe),('m',model)])\n",
    "    return models\n",
    "\n",
    "# evaluate a give model using cross-validation\n",
    "def evaluate_model(model, X, y):\n",
    "    cv = RepeatedStratifiedKFold(n_splits=10, n_repeats=3, random_state=1)\n",
    "    scores = cross_val_score(model, X, y, scoring='accuracy', cv=cv, n_jobs=-1, error_score='raise')\n",
    "    return scores\n",
    "\n",
    "\n",
    "# get the models to evaluate\n",
    "models = get_models()\n",
    "# evaluate the models and store results\n",
    "results, names = list(), list()\n",
    "for name, model in models.items():\n",
    "    scores = evaluate_model(model, features, target)\n",
    "    results.append(scores)\n",
    "    names.append(name)\n",
    "    print('>%s %.3f (%.3f)' % (name, mean(scores), std(scores)))\n",
    "# plot model performance for comparison\n",
    "pyplot.boxplot(results, labels=names, showmeans=True)\n",
    "pyplot.show()"
   ]
  },
  {
   "cell_type": "code",
   "execution_count": null,
   "id": "3edc7799",
   "metadata": {},
   "outputs": [],
   "source": []
  }
 ],
 "metadata": {
  "kernelspec": {
   "display_name": "Python 3 (ipykernel)",
   "language": "python",
   "name": "python3"
  },
  "language_info": {
   "codemirror_mode": {
    "name": "ipython",
    "version": 3
   },
   "file_extension": ".py",
   "mimetype": "text/x-python",
   "name": "python",
   "nbconvert_exporter": "python",
   "pygments_lexer": "ipython3",
   "version": "3.9.7"
  }
 },
 "nbformat": 4,
 "nbformat_minor": 5
}
